{
 "cells": [
  {
   "cell_type": "markdown",
   "id": "77ef1d00",
   "metadata": {},
   "source": [
    "### 1. Bibliotecas necessárias"
   ]
  },
  {
   "cell_type": "code",
   "execution_count": 19,
   "id": "0210a287",
   "metadata": {},
   "outputs": [
    {
     "name": "stdout",
     "output_type": "stream",
     "text": [
      "Bibliotecas importadas com sucesso: \n",
      " Pandas -  2.3.2 \n",
      " NumPy - 2.3.3 \n",
      " Matplotlib \n",
      " Seaborn - 0.13.2 \n",
      " Scikit-learn - 1.7.2\n"
     ]
    }
   ],
   "source": [
    "import pandas as pd\n",
    "import numpy as np\n",
    "import matplotlib.pyplot as plt\n",
    "import seaborn as sns \n",
    "import sklearn as sk\n",
    "\n",
    "print(\"Bibliotecas importadas com sucesso:\",\"\\n Pandas - \", pd.__version__, \"\\n NumPy -\", np.__version__, \"\\n Matplotlib\", \"\\n Seaborn -\", sns.__version__, \"\\n Scikit-learn -\", sk.__version__)"
   ]
  },
  {
   "cell_type": "markdown",
   "id": "68ef4805",
   "metadata": {},
   "source": [
    "### 2. Carregamento do dataset"
   ]
  },
  {
   "cell_type": "code",
   "execution_count": 20,
   "id": "b4e839be",
   "metadata": {},
   "outputs": [
    {
     "data": {
      "text/html": [
       "<div>\n",
       "<style scoped>\n",
       "    .dataframe tbody tr th:only-of-type {\n",
       "        vertical-align: middle;\n",
       "    }\n",
       "\n",
       "    .dataframe tbody tr th {\n",
       "        vertical-align: top;\n",
       "    }\n",
       "\n",
       "    .dataframe thead th {\n",
       "        text-align: right;\n",
       "    }\n",
       "</style>\n",
       "<table border=\"1\" class=\"dataframe\">\n",
       "  <thead>\n",
       "    <tr style=\"text-align: right;\">\n",
       "      <th></th>\n",
       "      <th>id</th>\n",
       "      <th>age_first_funding_year</th>\n",
       "      <th>age_last_funding_year</th>\n",
       "      <th>age_first_milestone_year</th>\n",
       "      <th>age_last_milestone_year</th>\n",
       "      <th>relationships</th>\n",
       "      <th>funding_rounds</th>\n",
       "      <th>funding_total_usd</th>\n",
       "      <th>milestones</th>\n",
       "      <th>is_CA</th>\n",
       "      <th>...</th>\n",
       "      <th>is_consulting</th>\n",
       "      <th>is_othercategory</th>\n",
       "      <th>has_VC</th>\n",
       "      <th>has_angel</th>\n",
       "      <th>has_roundA</th>\n",
       "      <th>has_roundB</th>\n",
       "      <th>has_roundC</th>\n",
       "      <th>has_roundD</th>\n",
       "      <th>avg_participants</th>\n",
       "      <th>labels</th>\n",
       "    </tr>\n",
       "  </thead>\n",
       "  <tbody>\n",
       "    <tr>\n",
       "      <th>0</th>\n",
       "      <td>719</td>\n",
       "      <td>10.42</td>\n",
       "      <td>13.09</td>\n",
       "      <td>8.98</td>\n",
       "      <td>12.72</td>\n",
       "      <td>4</td>\n",
       "      <td>3</td>\n",
       "      <td>4087500</td>\n",
       "      <td>3</td>\n",
       "      <td>1</td>\n",
       "      <td>...</td>\n",
       "      <td>0</td>\n",
       "      <td>0</td>\n",
       "      <td>1</td>\n",
       "      <td>1</td>\n",
       "      <td>0</td>\n",
       "      <td>0</td>\n",
       "      <td>0</td>\n",
       "      <td>0</td>\n",
       "      <td>1.0</td>\n",
       "      <td>0</td>\n",
       "    </tr>\n",
       "    <tr>\n",
       "      <th>1</th>\n",
       "      <td>429</td>\n",
       "      <td>3.79</td>\n",
       "      <td>3.79</td>\n",
       "      <td>NaN</td>\n",
       "      <td>NaN</td>\n",
       "      <td>21</td>\n",
       "      <td>1</td>\n",
       "      <td>45000000</td>\n",
       "      <td>0</td>\n",
       "      <td>0</td>\n",
       "      <td>...</td>\n",
       "      <td>0</td>\n",
       "      <td>0</td>\n",
       "      <td>0</td>\n",
       "      <td>0</td>\n",
       "      <td>0</td>\n",
       "      <td>1</td>\n",
       "      <td>0</td>\n",
       "      <td>0</td>\n",
       "      <td>1.0</td>\n",
       "      <td>1</td>\n",
       "    </tr>\n",
       "    <tr>\n",
       "      <th>2</th>\n",
       "      <td>178</td>\n",
       "      <td>0.71</td>\n",
       "      <td>2.28</td>\n",
       "      <td>1.95</td>\n",
       "      <td>2.28</td>\n",
       "      <td>5</td>\n",
       "      <td>2</td>\n",
       "      <td>5200000</td>\n",
       "      <td>2</td>\n",
       "      <td>1</td>\n",
       "      <td>...</td>\n",
       "      <td>0</td>\n",
       "      <td>1</td>\n",
       "      <td>1</td>\n",
       "      <td>0</td>\n",
       "      <td>1</td>\n",
       "      <td>0</td>\n",
       "      <td>0</td>\n",
       "      <td>0</td>\n",
       "      <td>1.0</td>\n",
       "      <td>0</td>\n",
       "    </tr>\n",
       "    <tr>\n",
       "      <th>3</th>\n",
       "      <td>197</td>\n",
       "      <td>3.00</td>\n",
       "      <td>5.00</td>\n",
       "      <td>9.62</td>\n",
       "      <td>10.39</td>\n",
       "      <td>16</td>\n",
       "      <td>2</td>\n",
       "      <td>14500000</td>\n",
       "      <td>2</td>\n",
       "      <td>0</td>\n",
       "      <td>...</td>\n",
       "      <td>0</td>\n",
       "      <td>0</td>\n",
       "      <td>0</td>\n",
       "      <td>1</td>\n",
       "      <td>0</td>\n",
       "      <td>1</td>\n",
       "      <td>0</td>\n",
       "      <td>0</td>\n",
       "      <td>2.0</td>\n",
       "      <td>1</td>\n",
       "    </tr>\n",
       "    <tr>\n",
       "      <th>4</th>\n",
       "      <td>444</td>\n",
       "      <td>0.66</td>\n",
       "      <td>5.88</td>\n",
       "      <td>6.21</td>\n",
       "      <td>8.61</td>\n",
       "      <td>29</td>\n",
       "      <td>5</td>\n",
       "      <td>70000000</td>\n",
       "      <td>4</td>\n",
       "      <td>1</td>\n",
       "      <td>...</td>\n",
       "      <td>0</td>\n",
       "      <td>0</td>\n",
       "      <td>0</td>\n",
       "      <td>0</td>\n",
       "      <td>1</td>\n",
       "      <td>1</td>\n",
       "      <td>1</td>\n",
       "      <td>1</td>\n",
       "      <td>2.8</td>\n",
       "      <td>1</td>\n",
       "    </tr>\n",
       "  </tbody>\n",
       "</table>\n",
       "<p>5 rows × 33 columns</p>\n",
       "</div>"
      ],
      "text/plain": [
       "    id  age_first_funding_year  age_last_funding_year  \\\n",
       "0  719                   10.42                  13.09   \n",
       "1  429                    3.79                   3.79   \n",
       "2  178                    0.71                   2.28   \n",
       "3  197                    3.00                   5.00   \n",
       "4  444                    0.66                   5.88   \n",
       "\n",
       "   age_first_milestone_year  age_last_milestone_year  relationships  \\\n",
       "0                      8.98                    12.72              4   \n",
       "1                       NaN                      NaN             21   \n",
       "2                      1.95                     2.28              5   \n",
       "3                      9.62                    10.39             16   \n",
       "4                      6.21                     8.61             29   \n",
       "\n",
       "   funding_rounds  funding_total_usd  milestones  is_CA  ...  is_consulting  \\\n",
       "0               3            4087500           3      1  ...              0   \n",
       "1               1           45000000           0      0  ...              0   \n",
       "2               2            5200000           2      1  ...              0   \n",
       "3               2           14500000           2      0  ...              0   \n",
       "4               5           70000000           4      1  ...              0   \n",
       "\n",
       "   is_othercategory  has_VC  has_angel has_roundA  has_roundB  has_roundC  \\\n",
       "0                 0       1          1          0           0           0   \n",
       "1                 0       0          0          0           1           0   \n",
       "2                 1       1          0          1           0           0   \n",
       "3                 0       0          1          0           1           0   \n",
       "4                 0       0          0          1           1           1   \n",
       "\n",
       "   has_roundD  avg_participants  labels  \n",
       "0           0               1.0       0  \n",
       "1           0               1.0       1  \n",
       "2           0               1.0       0  \n",
       "3           0               2.0       1  \n",
       "4           1               2.8       1  \n",
       "\n",
       "[5 rows x 33 columns]"
      ]
     },
     "execution_count": 20,
     "metadata": {},
     "output_type": "execute_result"
    }
   ],
   "source": [
    "df = pd.read_csv('../data/train.csv')\n",
    "df.head()"
   ]
  },
  {
   "cell_type": "code",
   "execution_count": 21,
   "id": "dee58ce3",
   "metadata": {},
   "outputs": [
    {
     "name": "stdout",
     "output_type": "stream",
     "text": [
      "O DataFrame tem 646 linhas, cada qual representando uma start-up.\n"
     ]
    }
   ],
   "source": [
    "numero_de_linhas = len(df)\n",
    "print(f\"O DataFrame tem {numero_de_linhas} linhas, cada qual representando uma start-up.\")"
   ]
  },
  {
   "cell_type": "code",
   "execution_count": 22,
   "id": "49dfada5",
   "metadata": {},
   "outputs": [
    {
     "data": {
      "text/plain": [
       "id                            int64\n",
       "age_first_funding_year      float64\n",
       "age_last_funding_year       float64\n",
       "age_first_milestone_year    float64\n",
       "age_last_milestone_year     float64\n",
       "relationships                 int64\n",
       "funding_rounds                int64\n",
       "funding_total_usd             int64\n",
       "milestones                    int64\n",
       "is_CA                         int64\n",
       "is_NY                         int64\n",
       "is_MA                         int64\n",
       "is_TX                         int64\n",
       "is_otherstate                 int64\n",
       "category_code                object\n",
       "is_software                   int64\n",
       "is_web                        int64\n",
       "is_mobile                     int64\n",
       "is_enterprise                 int64\n",
       "is_advertising                int64\n",
       "is_gamesvideo                 int64\n",
       "is_ecommerce                  int64\n",
       "is_biotech                    int64\n",
       "is_consulting                 int64\n",
       "is_othercategory              int64\n",
       "has_VC                        int64\n",
       "has_angel                     int64\n",
       "has_roundA                    int64\n",
       "has_roundB                    int64\n",
       "has_roundC                    int64\n",
       "has_roundD                    int64\n",
       "avg_participants            float64\n",
       "labels                        int64\n",
       "dtype: object"
      ]
     },
     "execution_count": 22,
     "metadata": {},
     "output_type": "execute_result"
    }
   ],
   "source": [
    "df.dtypes"
   ]
  },
  {
   "cell_type": "code",
   "execution_count": 23,
   "id": "9bddb80a",
   "metadata": {},
   "outputs": [
    {
     "data": {
      "text/plain": [
       "id                            0\n",
       "age_first_funding_year       35\n",
       "age_last_funding_year         9\n",
       "age_first_milestone_year    138\n",
       "age_last_milestone_year     111\n",
       "relationships                 0\n",
       "funding_rounds                0\n",
       "funding_total_usd             0\n",
       "milestones                    0\n",
       "is_CA                         0\n",
       "is_NY                         0\n",
       "is_MA                         0\n",
       "is_TX                         0\n",
       "is_otherstate                 0\n",
       "category_code                 0\n",
       "is_software                   0\n",
       "is_web                        0\n",
       "is_mobile                     0\n",
       "is_enterprise                 0\n",
       "is_advertising                0\n",
       "is_gamesvideo                 0\n",
       "is_ecommerce                  0\n",
       "is_biotech                    0\n",
       "is_consulting                 0\n",
       "is_othercategory              0\n",
       "has_VC                        0\n",
       "has_angel                     0\n",
       "has_roundA                    0\n",
       "has_roundB                    0\n",
       "has_roundC                    0\n",
       "has_roundD                    0\n",
       "avg_participants              0\n",
       "labels                        0\n",
       "dtype: int64"
      ]
     },
     "execution_count": 23,
     "metadata": {},
     "output_type": "execute_result"
    }
   ],
   "source": [
    "df.isnull().sum()"
   ]
  },
  {
   "cell_type": "markdown",
   "id": "619d50d7",
   "metadata": {},
   "source": [
    "### 3. Limpeza e Tratamento de Valores Nulos (até 0,5 pt)\n",
    "processo de limpeza E tratamento de valores ausentes e outliers"
   ]
  },
  {
   "cell_type": "markdown",
   "id": "f50e879c",
   "metadata": {},
   "source": [
    "### 4. Codificação de Variáveis Categóricas (até 0,5 pt)\n",
    "\n",
    "Aplicação de técnicas apropriadas de codificação para transformar variáveis categóricas em formatos utilizáveis em modelos preditivos, garantindo que a informação essencial não seja perdida no processo."
   ]
  },
  {
   "cell_type": "markdown",
   "id": "72ac14ff",
   "metadata": {},
   "source": [
    "### 5. EDA: Exploração e Visualização dos Dados (até 2,0 pts)\n",
    "\n",
    "Análise exploratória detalhada para descobrir padrões, correlações e tendências nos dados. "
   ]
  },
  {
   "cell_type": "markdown",
   "id": "4cfb6a02",
   "metadata": {},
   "source": [
    "**5.1 Distribuição do target**\n",
    "\n",
    "O dataset é moderadamente desbalanceado e, se um modelo previsse sempre “sucesso”, ele já teria 64,7% de acurácia. Por isso precisaremos olhar também para precisão, recall e F1, não só acurácia."
   ]
  },
  {
   "cell_type": "code",
   "execution_count": null,
   "id": "79e5324f",
   "metadata": {},
   "outputs": [
    {
     "data": {
      "image/png": "[encoded data removed]",
      "text/plain": [
       "<Figure size 500x400 with 1 Axes>"
      ]
     },
     "metadata": {},
     "output_type": "display_data"
    },
    {
     "name": "stdout",
     "output_type": "stream",
     "text": [
      "0 (insucesso): 228 startups (~35.3%)\n",
      "1 (sucesso): 418 startups (~64.7%)\n"
     ]
    }
   ],
   "source": [
    "# Contagem de cada classe\n",
    "class_counts = df['labels'].value_counts().sort_index()\n",
    "\n",
    "# Plot do gráfico\n",
    "plt.figure(figsize=(5,4))\n",
    "plt.bar(class_counts.index.astype(str), class_counts.values, color=['tomato','seagreen'])\n",
    "plt.title(\"Distribuição do Target (labels)\")\n",
    "plt.xlabel(\"Label\")\n",
    "plt.ylabel(\"Número de Startups\")\n",
    "plt.xticks([0,1], [\"0 = Insucesso\", \"1 = Sucesso\"])\n",
    "plt.show()\n",
    "\n",
    "total = len(df)\n",
    "print(f\"0 (insucesso): {class_counts[0]} startups (~{class_counts[0]/total:.1%})\")\n",
    "print(f\"1 (sucesso): {class_counts[1]} startups (~{class_counts[1]/total:.1%})\")"
   ]
  },
  {
   "cell_type": "markdown",
   "id": "bba280a3",
   "metadata": {},
   "source": [
    "**5.2 Análise entre target e tempo até a primeira captação**\n",
    "\n",
    "- Variável analisada: `age_first_funding_year`\n",
    "- Boa forma de avaliar se existe alguma correlação entre captar investimento cedo e as chances de sucesso.\n",
    "- Conclusão: Os gráficos de age_first_funding_year mostram que a maioria das startups consegue captar o primeiro investimento nos primeiros cinco anos de vida, com poucos casos tardios que se configuram como outliers; além disso, ao comparar sucesso e insucesso, percebe-se que startups bem-sucedidas tendem a captar mais cedo, com valores mais concentrados em idades menores, enquanto as de insucesso apresentam distribuição mais espalhada, sugerindo que o tempo até o primeiro funding é um fator relevante e que captar cedo está associado a maiores chances de sucesso."
   ]
  },
  {
   "cell_type": "code",
   "execution_count": null,
   "id": "b2d4e1c0",
   "metadata": {},
   "outputs": [
    {
     "data": {
      "image/png": "[encoded data removed]",
      "text/plain": [
       "<Figure size 1200x500 with 1 Axes>"
      ]
     },
     "metadata": {},
     "output_type": "display_data"
    },
    {
     "data": {
      "image/png": "[encoded data removed]",
      "text/plain": [
       "<Figure size 640x480 with 1 Axes>"
      ]
     },
     "metadata": {},
     "output_type": "display_data"
    }
   ],
   "source": [
    "col = \"age_first_funding_year\"\n",
    "\n",
    "plt.figure(figsize=(12,5))\n",
    "\n",
    "# Histograma geral\n",
    "plt.subplot(1,2,1)\n",
    "df[col].hist(bins=30, color=\"skyblue\", edgecolor=\"black\")\n",
    "plt.title(f\"Distribuição de {col}\")\n",
    "plt.xlabel(\"Anos até o primeiro funding\")\n",
    "plt.ylabel(\"Número de startups\")\n",
    "\n",
    "# Boxplot comparando sucesso x insucesso\n",
    "df.boxplot(column=col, by=\"labels\", grid=False, patch_artist=True)\n",
    "plt.title(f\"{col} vs. Sucesso\")\n",
    "plt.xlabel(\"Label (0 = insucesso, 1 = sucesso)\")\n",
    "plt.ylabel(\"Anos até o primeiro funding\")"
   ]
  },
  {
   "cell_type": "markdown",
   "id": "5f7ce7b7",
   "metadata": {},
   "source": [
    "**Agrupamento do dataset com base nas rodadas de investimento e número de funcionários**"
   ]
  },
  {
   "cell_type": "code",
   "execution_count": 25,
   "id": "d7549b87",
   "metadata": {},
   "outputs": [
    {
     "name": "stdout",
     "output_type": "stream",
     "text": [
      "                startups  VC  angel    A   B   C   D  team_size  unicorns  \\\n",
      "funding_rounds                                                              \n",
      "1                    207  37     48   59  22  19   9        5.0       102   \n",
      "2                    199  56     63  113  85  18   4        7.0       124   \n",
      "3                    124  55     34   72  75  40  13        9.0       102   \n",
      "4                     66  29     11   52  53  43  13       12.0        52   \n",
      "5                     34  23      9   25  24  20  12       11.0        27   \n",
      "6                      6   4      0    5   4   6   3       16.0         5   \n",
      "7                      8   7      3    5   6   4   4       22.0         5   \n",
      "8                      2   2      0    2   2   2   1       16.0         1   \n",
      "\n",
      "                non-unicorns  \n",
      "funding_rounds                \n",
      "1                        105  \n",
      "2                         75  \n",
      "3                         22  \n",
      "4                         14  \n",
      "5                          7  \n",
      "6                          1  \n",
      "7                          3  \n",
      "8                          1  \n"
     ]
    }
   ],
   "source": [
    "\n",
    "df_investment = df[[\n",
    "    \"funding_rounds\", \"id\", \"has_VC\", \"has_angel\", \"has_roundA\", \"has_roundB\", \"has_roundC\", \"has_roundD\", \"labels\", \"relationships\"\n",
    "]]\n",
    "\n",
    "df_investment_grouped = df_investment.groupby(\"funding_rounds\").agg({ # função agg permite aplicar diferentes funções de agregação para diferentes colunas em um groupby.\n",
    "    \"id\": \"count\",          # conta startups\n",
    "    \"has_VC\": \"sum\",\n",
    "    \"has_angel\": \"sum\",\n",
    "    \"has_roundA\": \"sum\",\n",
    "    \"has_roundB\": \"sum\",\n",
    "    \"has_roundC\": \"sum\",\n",
    "    \"has_roundD\": \"sum\",\n",
    "    \"relationships\": \"mean\",\n",
    "    \"labels\": \"sum\"\n",
    "})\n",
    "\n",
    "df_investment_grouped[\"labels_0\"] = df_investment_grouped[\"id\"] - df_investment_grouped[\"labels\"]\n",
    "df_investment_grouped[\"relationships\"] = df_investment_grouped[\"relationships\"].round(0)\n",
    "\n",
    "df_investment_grouped = df_investment_grouped.rename(columns={\"relationships\": \"team_size\", \"id\": \"startups\", \"has_VC\": \"VC\", \"has_angel\": \"angel\", \"has_roundA\": \"A\", \"has_roundB\": \"B\",\"has_roundC\": \"C\",\"has_roundD\": \"D\", \"labels\": \"unicorns\", \"labels_0\": \"non-unicorns\"})\n",
    "\n",
    "print(df_investment_grouped)"
   ]
  },
  {
   "cell_type": "markdown",
   "id": "42f6a2a4",
   "metadata": {},
   "source": [
    "**Agrupamento com base em localidade e setor**"
   ]
  },
  {
   "cell_type": "code",
   "execution_count": null,
   "id": "d2ca5457",
   "metadata": {},
   "outputs": [
    {
     "name": "stdout",
     "output_type": "stream",
     "text": [
      "                NY  MA  TX   x  sf  wb  mbl  ets  adv  gmv  ecm  btc  cst   x\n",
      "funding_rounds                                                               \n",
      "1               26   9  11  53  36  38    9    9   18   11   11    7    0  68\n",
      "2               20  20   6  44  33  33   23   21   12   14    4    8    0  51\n",
      "3               12  14   2  16  18  13   13   10   10    7    2    4    0  47\n",
      "4                6  10   4  12  13   3    9    8    3    2    2    3    2  21\n",
      "5                4   6   1   7   4   7    6    4    2    2    0    1    0   8\n",
      "6                1   0   0   1   0   1    1    0    0    0    1    2    0   1\n",
      "7                2   2   0   3   1   2    4    0    0    1    0    0    0   0\n",
      "8                0   0   0   0   0   0    0    1    0    0    0    0    0   1\n"
     ]
    }
   ],
   "source": [
    "\n",
    "df_caracteristic = df[[\n",
    "\"id\", \"is_CA\", \"is_NY\", \"is_MA\", \"is_TX\",\"is_otherstate\",\"funding_rounds\",\n",
    "\"is_software\",\"is_web\",\"is_mobile\",\"is_enterprise\",\"is_advertising\",\"is_gamesvideo\",\"is_ecommerce\",\"is_biotech\",\"is_consulting\",\"is_othercategory\"\n",
    " ]]\n",
    "\n",
    "df_caracteristic_grouped = df_caracteristic.groupby(\"funding_rounds\").agg({ \n",
    "    \"is_NY\": \"sum\",\n",
    "    \"is_MA\": \"sum\",\n",
    "    \"is_TX\": \"sum\",\n",
    "    \"is_otherstate\": \"sum\",\n",
    "    \"is_software\": \"sum\",\n",
    "    \"is_web\": \"sum\",\n",
    "    \"is_mobile\": \"sum\",\n",
    "    \"is_enterprise\": \"sum\",\n",
    "    \"is_advertising\": \"sum\",\n",
    "    \"is_gamesvideo\": \"sum\",\n",
    "    \"is_ecommerce\": \"sum\",\n",
    "    \"is_biotech\": \"sum\",\n",
    "    \"is_consulting\": \"sum\",\n",
    "    \"is_othercategory\": \"sum\"\n",
    "\n",
    "})\n",
    "\n",
    "df_caracteristic_grouped = df_caracteristic_grouped.rename(columns={\n",
    "    \"is_CA\": \"CA\",\n",
    "    \"is_NY\": \"NY\",\n",
    "    \"is_MA\": \"MA\",\n",
    "    \"is_TX\": \"TX\",\n",
    "    \"is_otherstate\": \"x\", # otherstate\n",
    "    \"is_software\": \"sf\", # software\n",
    "    \"is_web\": \"wb\", # web\n",
    "    \"is_mobile\": \"mbl\", # mobile\n",
    "    \"is_enterprise\": \"ets\", # enterprise\n",
    "    \"is_advertising\": \"adv\", # advertising\n",
    "    \"is_gamesvideo\": \"gmv\", # gamesvideo\n",
    "    \"is_ecommerce\": \"ecm\", # ecommerce\n",
    "    \"is_biotech\": \"btc\", # biotech\n",
    "    \"is_consulting\": \"cst\", # consulting\n",
    "    \"is_othercategory\": \"x\", # othercategory\n",
    "    \"id\": \"startups\"})\n",
    "\n",
    "print(df_caracteristic_grouped)"
   ]
  },
  {
   "cell_type": "markdown",
   "id": "1c0097dd",
   "metadata": {},
   "source": [
    "### 6. Formulação de Hipóteses (até 1,0 pt)\n",
    "\n",
    "Formulação de três hipóteses que possam explicar os fatores que influenciam o sucesso da empresas."
   ]
  },
  {
   "cell_type": "markdown",
   "id": "23bbd451",
   "metadata": {},
   "source": [
    "### 7. Seleção de Features (até 1,0 pt)\n",
    "\n",
    "Escolha das features mais relevantes para o modelo com base em sua análise exploratória e hipóteses formuladas."
   ]
  },
  {
   "cell_type": "markdown",
   "id": "07288bf4",
   "metadata": {},
   "source": [
    "### 8. Construção e Avaliação do Modelo (até 2,0 pts)\n",
    "\n",
    "Seleção de um modelo de machine learning adequado (ou uma combinação de modelos) que maximize a capacidade preditiva. A avaliação deve incluir métricas como acurácia, precisão, recall, e F1-score."
   ]
  },
  {
   "cell_type": "markdown",
   "id": "8850ec49",
   "metadata": {},
   "source": [
    "### 9. Finetuning de Hiperparâmetros (até 1,0 pt)\n",
    "\n",
    "Realização de um ajuste fino (finetuning) dos hiperparâmetros do modelo para otimizar o desempenho. Aqui estão detalhes do processo de busca e as justificativas para as escolhas feitas."
   ]
  }
 ],
 "metadata": {
  "kernelspec": {
   "display_name": "Python 3",
   "language": "python",
   "name": "python3"
  },
  "language_info": {
   "codemirror_mode": {
    "name": "ipython",
    "version": 3
   },
   "file_extension": ".py",
   "mimetype": "text/x-python",
   "name": "python",
   "nbconvert_exporter": "python",
   "pygments_lexer": "ipython3",
   "version": "3.13.7"
  }
 },
 "nbformat": 4,
 "nbformat_minor": 5
}
